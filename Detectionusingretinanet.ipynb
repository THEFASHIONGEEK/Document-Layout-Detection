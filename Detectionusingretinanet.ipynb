{
  "nbformat": 4,
  "nbformat_minor": 0,
  "metadata": {
    "colab": {
      "name": "Document Layout Detection.ipynb",
      "provenance": [],
      "collapsed_sections": [],
      "toc_visible": true
    },
    "kernelspec": {
      "name": "python3",
      "display_name": "Python 3"
    },
    "accelerator": "GPU"
  },
  "cells": [
    {
      "cell_type": "markdown",
      "metadata": {
        "id": "Cmq-7MRQFzJd",
        "colab_type": "text"
      },
      "source": [
        "# Setup Monk\n",
        "\n",
        " - Run these commands\n",
        "     \n",
        "     - git clone https://github.com/Tessellate-Imaging/Monk_Object_Detection.git\n",
        "     \n",
        "     - cd Monk_Object_Detection/5_pytorch_retinanet/installation\n",
        "     \n",
        " - Select the right requirements file and run\n",
        " \n",
        "     - cat requirements_cuda.txt | xargs -n 1 -L 1 pip install"
      ]
    },
    {
      "cell_type": "code",
      "metadata": {
        "id": "eS_2HcaLE3Et",
        "colab_type": "code",
        "outputId": "f959c1a0-c1f2-4556-8a33-2ebb5b7eecca",
        "colab": {
          "base_uri": "https://localhost:8080/",
          "height": 151
        }
      },
      "source": [
        "!git clone https://github.com/Tessellate-Imaging/Monk_Object_Detection.git"
      ],
      "execution_count": 0,
      "outputs": [
        {
          "output_type": "stream",
          "text": [
            "Cloning into 'Monk_Object_Detection'...\n",
            "remote: Enumerating objects: 127, done.\u001b[K\n",
            "remote: Counting objects:   0% (1/127)\u001b[K\rremote: Counting objects:   1% (2/127)\u001b[K\rremote: Counting objects:   2% (3/127)\u001b[K\rremote: Counting objects:   3% (4/127)\u001b[K\rremote: Counting objects:   4% (6/127)\u001b[K\rremote: Counting objects:   5% (7/127)\u001b[K\rremote: Counting objects:   6% (8/127)\u001b[K\rremote: Counting objects:   7% (9/127)\u001b[K\rremote: Counting objects:   8% (11/127)\u001b[K\rremote: Counting objects:   9% (12/127)\u001b[K\rremote: Counting objects:  10% (13/127)\u001b[K\rremote: Counting objects:  11% (14/127)\u001b[K\rremote: Counting objects:  12% (16/127)\u001b[K\rremote: Counting objects:  13% (17/127)\u001b[K\rremote: Counting objects:  14% (18/127)\u001b[K\rremote: Counting objects:  15% (20/127)\u001b[K\rremote: Counting objects:  16% (21/127)\u001b[K\rremote: Counting objects:  17% (22/127)\u001b[K\rremote: Counting objects:  18% (23/127)\u001b[K\rremote: Counting objects:  19% (25/127)\u001b[K\rremote: Counting objects:  20% (26/127)\u001b[K\rremote: Counting objects:  21% (27/127)\u001b[K\rremote: Counting objects:  22% (28/127)\u001b[K\rremote: Counting objects:  23% (30/127)\u001b[K\rremote: Counting objects:  24% (31/127)\u001b[K\rremote: Counting objects:  25% (32/127)\u001b[K\rremote: Counting objects:  26% (34/127)\u001b[K\rremote: Counting objects:  27% (35/127)\u001b[K\rremote: Counting objects:  28% (36/127)\u001b[K\rremote: Counting objects:  29% (37/127)\u001b[K\rremote: Counting objects:  30% (39/127)\u001b[K\rremote: Counting objects:  31% (40/127)\u001b[K\rremote: Counting objects:  32% (41/127)\u001b[K\rremote: Counting objects:  33% (42/127)\u001b[K\rremote: Counting objects:  34% (44/127)\u001b[K\rremote: Counting objects:  35% (45/127)\u001b[K\rremote: Counting objects:  36% (46/127)\u001b[K\rremote: Counting objects:  37% (47/127)\u001b[K\rremote: Counting objects:  38% (49/127)\u001b[K\rremote: Counting objects:  39% (50/127)\u001b[K\rremote: Counting objects:  40% (51/127)\u001b[K\rremote: Counting objects:  41% (53/127)\u001b[K\rremote: Counting objects:  42% (54/127)\u001b[K\rremote: Counting objects:  43% (55/127)\u001b[K\rremote: Counting objects:  44% (56/127)\u001b[K\rremote: Counting objects:  45% (58/127)\u001b[K\rremote: Counting objects:  46% (59/127)\u001b[K\rremote: Counting objects:  47% (60/127)\u001b[K\rremote: Counting objects:  48% (61/127)\u001b[K\rremote: Counting objects:  49% (63/127)\u001b[K\rremote: Counting objects:  50% (64/127)\u001b[K\rremote: Counting objects:  51% (65/127)\u001b[K\rremote: Counting objects:  52% (67/127)\u001b[K\rremote: Counting objects:  53% (68/127)\u001b[K\rremote: Counting objects:  54% (69/127)\u001b[K\rremote: Counting objects:  55% (70/127)\u001b[K\rremote: Counting objects:  56% (72/127)\u001b[K\rremote: Counting objects:  57% (73/127)\u001b[K\rremote: Counting objects:  58% (74/127)\u001b[K\rremote: Counting objects:  59% (75/127)\u001b[K\rremote: Counting objects:  60% (77/127)\u001b[K\rremote: Counting objects:  61% (78/127)\u001b[K\rremote: Counting objects:  62% (79/127)\u001b[K\rremote: Counting objects:  63% (81/127)\u001b[K\rremote: Counting objects:  64% (82/127)\u001b[K\rremote: Counting objects:  65% (83/127)\u001b[K\rremote: Counting objects:  66% (84/127)\u001b[K\rremote: Counting objects:  67% (86/127)\u001b[K\rremote: Counting objects:  68% (87/127)\u001b[K\rremote: Counting objects:  69% (88/127)\u001b[K\rremote: Counting objects:  70% (89/127)\u001b[K\rremote: Counting objects:  71% (91/127)\u001b[K\rremote: Counting objects:  72% (92/127)\u001b[K\rremote: Counting objects:  73% (93/127)\u001b[K\rremote: Counting objects:  74% (94/127)\u001b[K\rremote: Counting objects:  75% (96/127)\u001b[K\rremote: Counting objects:  76% (97/127)\u001b[K\rremote: Counting objects:  77% (98/127)\u001b[K\rremote: Counting objects:  78% (100/127)\u001b[K\rremote: Counting objects:  79% (101/127)\u001b[K\rremote: Counting objects:  80% (102/127)\u001b[K\rremote: Counting objects:  81% (103/127)\u001b[K\rremote: Counting objects:  82% (105/127)\u001b[K\rremote: Counting objects:  83% (106/127)\u001b[K\rremote: Counting objects:  84% (107/127)\u001b[K\rremote: Counting objects:  85% (108/127)\u001b[K\rremote: Counting objects:  86% (110/127)\u001b[K\rremote: Counting objects:  87% (111/127)\u001b[K\rremote: Counting objects:  88% (112/127)\u001b[K\rremote: Counting objects:  89% (114/127)\u001b[K\rremote: Counting objects:  90% (115/127)\u001b[K\rremote: Counting objects:  91% (116/127)\u001b[K\rremote: Counting objects:  92% (117/127)\u001b[K\rremote: Counting objects:  93% (119/127)\u001b[K\rremote: Counting objects:  94% (120/127)\u001b[K\rremote: Counting objects:  95% (121/127)\u001b[K\rremote: Counting objects:  96% (122/127)\u001b[K\rremote: Counting objects:  97% (124/127)\u001b[K\rremote: Counting objects:  98% (125/127)\u001b[K\rremote: Counting objects:  99% (126/127)\u001b[K\rremote: Counting objects: 100% (127/127)\u001b[K\rremote: Counting objects: 100% (127/127), done.\u001b[K\n",
            "remote: Compressing objects: 100% (95/95), done.\u001b[K\n",
            "remote: Total 2245 (delta 60), reused 70 (delta 31), pack-reused 2118\u001b[K\n",
            "Receiving objects: 100% (2245/2245), 97.06 MiB | 40.01 MiB/s, done.\n",
            "Resolving deltas: 100% (283/283), done.\n",
            "Checking out files: 100% (3781/3781), done.\n"
          ],
          "name": "stdout"
        }
      ]
    },
    {
      "cell_type": "code",
      "metadata": {
        "id": "SVBjO3FVH_S3",
        "colab_type": "code",
        "outputId": "f2a26bf4-eae5-4c79-f2cf-7f74f3a3edce",
        "colab": {
          "base_uri": "https://localhost:8080/",
          "height": 34
        }
      },
      "source": [
        "cd Monk_Object_Detection/5_pytorch_retinanet/installation"
      ],
      "execution_count": 0,
      "outputs": [
        {
          "output_type": "stream",
          "text": [
            "/content/Monk_Object_Detection/5_pytorch_retinanet/installation/Monk_Object_Detection/5_pytorch_retinanet/installation\n"
          ],
          "name": "stdout"
        }
      ]
    },
    {
      "cell_type": "code",
      "metadata": {
        "id": "4epJkhkGH_WO",
        "colab_type": "code",
        "outputId": "643d2bdf-2475-40f3-e420-9443e625bb45",
        "colab": {
          "base_uri": "https://localhost:8080/",
          "height": 1000
        }
      },
      "source": [
        "cat requirements.txt | xargs -n 1 -L 1 pip install"
      ],
      "execution_count": 0,
      "outputs": [
        {
          "output_type": "stream",
          "text": [
            "Requirement already satisfied: numpy in /usr/local/lib/python3.6/dist-packages (1.17.5)\n",
            "Requirement already satisfied: scipy in /usr/local/lib/python3.6/dist-packages (1.4.1)\n",
            "Requirement already satisfied: numpy>=1.13.3 in /usr/local/lib/python3.6/dist-packages (from scipy) (1.17.5)\n",
            "Requirement already satisfied: scikit-learn in /usr/local/lib/python3.6/dist-packages (0.22.1)\n",
            "Requirement already satisfied: scipy>=0.17.0 in /usr/local/lib/python3.6/dist-packages (from scikit-learn) (1.4.1)\n",
            "Requirement already satisfied: numpy>=1.11.0 in /usr/local/lib/python3.6/dist-packages (from scikit-learn) (1.17.5)\n",
            "Requirement already satisfied: joblib>=0.11 in /usr/local/lib/python3.6/dist-packages (from scikit-learn) (0.14.1)\n",
            "Requirement already satisfied: scikit-image in /usr/local/lib/python3.6/dist-packages (0.16.2)\n",
            "Requirement already satisfied: pillow>=4.3.0 in /usr/local/lib/python3.6/dist-packages (from scikit-image) (6.0.0)\n",
            "Requirement already satisfied: matplotlib!=3.0.0,>=2.0.0 in /usr/local/lib/python3.6/dist-packages (from scikit-image) (3.1.2)\n",
            "Requirement already satisfied: PyWavelets>=0.4.0 in /usr/local/lib/python3.6/dist-packages (from scikit-image) (1.1.1)\n",
            "Requirement already satisfied: scipy>=0.19.0 in /usr/local/lib/python3.6/dist-packages (from scikit-image) (1.4.1)\n",
            "Requirement already satisfied: imageio>=2.3.0 in /usr/local/lib/python3.6/dist-packages (from scikit-image) (2.4.1)\n",
            "Requirement already satisfied: networkx>=2.0 in /usr/local/lib/python3.6/dist-packages (from scikit-image) (2.4)\n",
            "Requirement already satisfied: numpy>=1.11 in /usr/local/lib/python3.6/dist-packages (from matplotlib!=3.0.0,>=2.0.0->scikit-image) (1.17.5)\n",
            "Requirement already satisfied: cycler>=0.10 in /usr/local/lib/python3.6/dist-packages (from matplotlib!=3.0.0,>=2.0.0->scikit-image) (0.10.0)\n",
            "Requirement already satisfied: python-dateutil>=2.1 in /usr/local/lib/python3.6/dist-packages (from matplotlib!=3.0.0,>=2.0.0->scikit-image) (2.6.1)\n",
            "Requirement already satisfied: pyparsing!=2.0.4,!=2.1.2,!=2.1.6,>=2.0.1 in /usr/local/lib/python3.6/dist-packages (from matplotlib!=3.0.0,>=2.0.0->scikit-image) (2.4.6)\n",
            "Requirement already satisfied: kiwisolver>=1.0.1 in /usr/local/lib/python3.6/dist-packages (from matplotlib!=3.0.0,>=2.0.0->scikit-image) (1.1.0)\n",
            "Requirement already satisfied: decorator>=4.3.0 in /usr/local/lib/python3.6/dist-packages (from networkx>=2.0->scikit-image) (4.4.1)\n",
            "Requirement already satisfied: six in /usr/local/lib/python3.6/dist-packages (from cycler>=0.10->matplotlib!=3.0.0,>=2.0.0->scikit-image) (1.12.0)\n",
            "Requirement already satisfied: setuptools in /usr/local/lib/python3.6/dist-packages (from kiwisolver>=1.0.1->matplotlib!=3.0.0,>=2.0.0->scikit-image) (42.0.2)\n",
            "Requirement already satisfied: pandas in /usr/local/lib/python3.6/dist-packages (0.25.3)\n",
            "Requirement already satisfied: python-dateutil>=2.6.1 in /usr/local/lib/python3.6/dist-packages (from pandas) (2.6.1)\n",
            "Requirement already satisfied: pytz>=2017.2 in /usr/local/lib/python3.6/dist-packages (from pandas) (2018.9)\n",
            "Requirement already satisfied: numpy>=1.13.3 in /usr/local/lib/python3.6/dist-packages (from pandas) (1.17.5)\n",
            "Requirement already satisfied: six>=1.5 in /usr/local/lib/python3.6/dist-packages (from python-dateutil>=2.6.1->pandas) (1.12.0)\n",
            "Requirement already satisfied: cython in /usr/local/lib/python3.6/dist-packages (0.29.14)\n",
            "Requirement already satisfied: tqdm in /usr/local/lib/python3.6/dist-packages (4.42.0)\n",
            "Requirement already satisfied: pillow==6.0.0 in /usr/local/lib/python3.6/dist-packages (6.0.0)\n",
            "Requirement already satisfied: opencv-python in /usr/local/lib/python3.6/dist-packages (4.1.2.30)\n",
            "Requirement already satisfied: numpy>=1.11.3 in /usr/local/lib/python3.6/dist-packages (from opencv-python) (1.17.5)\n",
            "Collecting torch==1.3\n",
            "  Using cached https://files.pythonhosted.org/packages/ae/05/50a05de5337f7a924bb8bd70c6936230642233e424d6a9747ef1cfbde353/torch-1.3.0-cp36-cp36m-manylinux1_x86_64.whl\n",
            "Requirement already satisfied: numpy in /usr/local/lib/python3.6/dist-packages (from torch==1.3) (1.17.5)\n",
            "\u001b[31mERROR: torchvision 0.4.2 has requirement torch==1.3.1, but you'll have torch 1.3.0 which is incompatible.\u001b[0m\n",
            "Installing collected packages: torch\n",
            "  Found existing installation: torch 1.3.1\n",
            "    Uninstalling torch-1.3.1:\n",
            "      Successfully uninstalled torch-1.3.1\n",
            "Successfully installed torch-1.3.0\n",
            "Requirement already satisfied: torchvision in /usr/local/lib/python3.6/dist-packages (0.4.2)\n",
            "Collecting torch==1.3.1\n",
            "  Using cached https://files.pythonhosted.org/packages/88/95/90e8c4c31cfc67248bf944ba42029295b77159982f532c5689bcfe4e9108/torch-1.3.1-cp36-cp36m-manylinux1_x86_64.whl\n",
            "Requirement already satisfied: numpy in /usr/local/lib/python3.6/dist-packages (from torchvision) (1.17.5)\n",
            "Requirement already satisfied: pillow>=4.1.1 in /usr/local/lib/python3.6/dist-packages (from torchvision) (6.0.0)\n",
            "Requirement already satisfied: six in /usr/local/lib/python3.6/dist-packages (from torchvision) (1.12.0)\n",
            "Installing collected packages: torch\n",
            "  Found existing installation: torch 1.3.0\n",
            "    Uninstalling torch-1.3.0:\n",
            "      Successfully uninstalled torch-1.3.0\n",
            "Successfully installed torch-1.3.1\n",
            "Requirement already satisfied: efficientnet_pytorch in /usr/local/lib/python3.6/dist-packages (0.6.1)\n",
            "Requirement already satisfied: torch in /usr/local/lib/python3.6/dist-packages (from efficientnet_pytorch) (1.3.1)\n",
            "Requirement already satisfied: numpy in /usr/local/lib/python3.6/dist-packages (from torch->efficientnet_pytorch) (1.17.5)\n",
            "Requirement already satisfied: pycocotools from git+https://github.com/abhi-kumar/cocoapi.git#egg=pycocotools&subdirectory=PythonAPI in /usr/local/lib/python3.6/dist-packages (2.0.0)\n",
            "Requirement already satisfied: jupyter in /usr/local/lib/python3.6/dist-packages (1.0.0)\n",
            "Requirement already satisfied: notebook in /usr/local/lib/python3.6/dist-packages (5.2.2)\n",
            "Requirement already satisfied: jupyter-console in /usr/local/lib/python3.6/dist-packages (from jupyter) (5.2.0)\n",
            "Requirement already satisfied: qtconsole in /usr/local/lib/python3.6/dist-packages (from jupyter) (4.6.0)\n",
            "Requirement already satisfied: ipykernel in /usr/local/lib/python3.6/dist-packages (from jupyter) (4.6.1)\n",
            "Requirement already satisfied: nbconvert in /usr/local/lib/python3.6/dist-packages (from jupyter) (5.6.1)\n",
            "Requirement already satisfied: ipywidgets in /usr/local/lib/python3.6/dist-packages (from jupyter) (7.5.1)\n",
            "Requirement already satisfied: traitlets>=4.2.1 in /usr/local/lib/python3.6/dist-packages (from notebook) (4.3.3)\n",
            "Requirement already satisfied: tornado>=4 in /usr/local/lib/python3.6/dist-packages (from notebook) (4.5.3)\n",
            "Requirement already satisfied: jinja2 in /usr/local/lib/python3.6/dist-packages (from notebook) (2.10.3)\n",
            "Requirement already satisfied: nbformat in /usr/local/lib/python3.6/dist-packages (from notebook) (5.0.3)\n",
            "Requirement already satisfied: ipython-genutils in /usr/local/lib/python3.6/dist-packages (from notebook) (0.2.0)\n",
            "Requirement already satisfied: jupyter-core in /usr/local/lib/python3.6/dist-packages (from notebook) (4.6.1)\n",
            "Requirement already satisfied: jupyter-client in /usr/local/lib/python3.6/dist-packages (from notebook) (5.3.4)\n",
            "Requirement already satisfied: terminado>=0.3.3; sys_platform != \"win32\" in /usr/local/lib/python3.6/dist-packages (from notebook) (0.8.3)\n",
            "Requirement already satisfied: ipython in /usr/local/lib/python3.6/dist-packages (from jupyter-console->jupyter) (5.5.0)\n",
            "Requirement already satisfied: pygments in /usr/local/lib/python3.6/dist-packages (from jupyter-console->jupyter) (2.1.3)\n",
            "Requirement already satisfied: prompt-toolkit<2.0.0,>=1.0.0 in /usr/local/lib/python3.6/dist-packages (from jupyter-console->jupyter) (1.0.18)\n",
            "Requirement already satisfied: pandocfilters>=1.4.1 in /usr/local/lib/python3.6/dist-packages (from nbconvert->jupyter) (1.4.2)\n",
            "Requirement already satisfied: mistune<2,>=0.8.1 in /usr/local/lib/python3.6/dist-packages (from nbconvert->jupyter) (0.8.4)\n",
            "Requirement already satisfied: entrypoints>=0.2.2 in /usr/local/lib/python3.6/dist-packages (from nbconvert->jupyter) (0.3)\n",
            "Requirement already satisfied: testpath in /usr/local/lib/python3.6/dist-packages (from nbconvert->jupyter) (0.4.4)\n",
            "Requirement already satisfied: bleach in /usr/local/lib/python3.6/dist-packages (from nbconvert->jupyter) (3.1.0)\n",
            "Requirement already satisfied: defusedxml in /usr/local/lib/python3.6/dist-packages (from nbconvert->jupyter) (0.6.0)\n",
            "Requirement already satisfied: widgetsnbextension~=3.5.0 in /usr/local/lib/python3.6/dist-packages (from ipywidgets->jupyter) (3.5.1)\n",
            "Requirement already satisfied: six in /usr/local/lib/python3.6/dist-packages (from traitlets>=4.2.1->notebook) (1.12.0)\n",
            "Requirement already satisfied: decorator in /usr/local/lib/python3.6/dist-packages (from traitlets>=4.2.1->notebook) (4.4.1)\n",
            "Requirement already satisfied: MarkupSafe>=0.23 in /usr/local/lib/python3.6/dist-packages (from jinja2->notebook) (1.1.1)\n",
            "Requirement already satisfied: jsonschema!=2.5.0,>=2.4 in /usr/local/lib/python3.6/dist-packages (from nbformat->notebook) (2.6.0)\n",
            "Requirement already satisfied: python-dateutil>=2.1 in /usr/local/lib/python3.6/dist-packages (from jupyter-client->notebook) (2.6.1)\n",
            "Requirement already satisfied: pyzmq>=13 in /usr/local/lib/python3.6/dist-packages (from jupyter-client->notebook) (17.0.0)\n",
            "Requirement already satisfied: ptyprocess; os_name != \"nt\" in /usr/local/lib/python3.6/dist-packages (from terminado>=0.3.3; sys_platform != \"win32\"->notebook) (0.6.0)\n",
            "Requirement already satisfied: pexpect; sys_platform != \"win32\" in /usr/local/lib/python3.6/dist-packages (from ipython->jupyter-console->jupyter) (4.7.0)\n",
            "Requirement already satisfied: setuptools>=18.5 in /usr/local/lib/python3.6/dist-packages (from ipython->jupyter-console->jupyter) (42.0.2)\n",
            "Requirement already satisfied: pickleshare in /usr/local/lib/python3.6/dist-packages (from ipython->jupyter-console->jupyter) (0.7.5)\n",
            "Requirement already satisfied: simplegeneric>0.8 in /usr/local/lib/python3.6/dist-packages (from ipython->jupyter-console->jupyter) (0.8.1)\n",
            "Requirement already satisfied: wcwidth in /usr/local/lib/python3.6/dist-packages (from prompt-toolkit<2.0.0,>=1.0.0->jupyter-console->jupyter) (0.1.8)\n",
            "Requirement already satisfied: webencodings in /usr/local/lib/python3.6/dist-packages (from bleach->nbconvert->jupyter) (0.5.1)\n",
            "Requirement already satisfied: dicttoxml in /usr/local/lib/python3.6/dist-packages (1.7.4)\n",
            "Requirement already satisfied: xmltodict in /usr/local/lib/python3.6/dist-packages (0.12.0)\n"
          ],
          "name": "stdout"
        }
      ]
    },
    {
      "cell_type": "markdown",
      "metadata": {
        "id": "SxQmZwGmNj5_",
        "colab_type": "text"
      },
      "source": [
        "# Download Dataset"
      ]
    },
    {
      "cell_type": "code",
      "metadata": {
        "id": "AL8fqPvJIjJQ",
        "colab_type": "code",
        "outputId": "8e20e585-3915-4617-8b2e-2ac90b523190",
        "colab": {
          "base_uri": "https://localhost:8080/",
          "height": 34
        }
      },
      "source": [
        "from google.colab import drive\n",
        "drive.mount('/content/drive')"
      ],
      "execution_count": 0,
      "outputs": [
        {
          "output_type": "stream",
          "text": [
            "Drive already mounted at /content/drive; to attempt to forcibly remount, call drive.mount(\"/content/drive\", force_remount=True).\n"
          ],
          "name": "stdout"
        }
      ]
    },
    {
      "cell_type": "code",
      "metadata": {
        "id": "g8muTrGuVeh7",
        "colab_type": "code",
        "colab": {}
      },
      "source": [
        "!unzip -uq \"/content/drive/My Drive/PRImA Layout Analysis Dataset.zip\" -d \"/content/Monk_Object_Detection/5_pytorch_retinanet/installation\""
      ],
      "execution_count": 0,
      "outputs": []
    },
    {
      "cell_type": "markdown",
      "metadata": {
        "id": "cQG8Dj0BRKHQ",
        "colab_type": "text"
      },
      "source": [
        "# Prepare Dataset"
      ]
    },
    {
      "cell_type": "code",
      "metadata": {
        "id": "DAzgZtFSWPsd",
        "colab_type": "code",
        "colab": {}
      },
      "source": [
        "!pip install tqdm -U"
      ],
      "execution_count": 0,
      "outputs": []
    },
    {
      "cell_type": "markdown",
      "metadata": {
        "id": "2ut0MkO-NJt-",
        "colab_type": "text"
      },
      "source": [
        "## VOC Format\n",
        "\n",
        "## Dataset Directory Structure\n",
        "\n",
        "    ../PRImA Layout Analysis Dataset/ (root_dir)\n",
        "          |\n",
        "          |-----------Images (img_dir)\n",
        "          |              |\n",
        "          |              |------------------img1.tif\n",
        "          |              |------------------img2.tif\n",
        "          |              |------------------.........(and so on)\n",
        "          |\n",
        "          |\n",
        "          |-----------Annotations (anno_dir)\n",
        "          |              |\n",
        "          |              |------------------img1.xml\n",
        "          |              |------------------img2.xml\n",
        "          |              |------------------.........(and so on)"
      ]
    },
    {
      "cell_type": "markdown",
      "metadata": {
        "id": "VU6BPQIANmaJ",
        "colab_type": "text"
      },
      "source": [
        "## Monk Format\n",
        "\n",
        "## Dataset Directory Structure\n",
        "\n",
        "    ../PRImA Layout Analysis Dataset (root)\n",
        "          |\n",
        "          |-----------Images (img_dir)\n",
        "          |              |\n",
        "          |              |------------------img1.jpg\n",
        "          |              |------------------img2.jpg\n",
        "          |              |------------------.........(and so on)\n",
        "          |\n",
        "          |\n",
        "          |-----------train_labels.csv (anno_file)\n",
        "          \n",
        "          \n",
        "## Annotation file format\n",
        "\n",
        "           | Id         | Labels  | image_width | image_height                               |\n",
        "           | img1.jpg   | x1 y1 x2 y2 label1 x1 y1 x2 y2 label2  | width | height\n",
        "           \n",
        "           \n",
        "- Labels:  xmin ymin xmax ymax label\n",
        "- xmin, ymin - top left corner of bounding box\n",
        "- xmax, ymax - bottom right corner of bounding box"
      ]
    },
    {
      "cell_type": "markdown",
      "metadata": {
        "id": "xgDkHnPLOwpk",
        "colab_type": "text"
      },
      "source": [
        "## COCO Format\n",
        "\n",
        "## Dataset Directory Structure\n",
        "\n",
        "    ../sample_dataset (root_dir)\n",
        "          |\n",
        "          |------PRImA Layout Analysis Dataset (coco_dir) \n",
        "          |         |\n",
        "          |         |---Images (img_dir)\n",
        "          |         |----|\n",
        "          |              |-------------------img1.jpg\n",
        "          |              |-------------------img2.jpg\n",
        "          |              |-------------------.........(and so on)\n",
        "          |\n",
        "          |\n",
        "          |         |---annotations (anno_dir)\n",
        "          |         |----|\n",
        "          |              |--------------------instances_Images.json \n",
        "          |              |--------------------classes.txt\n",
        "          \n",
        "          \n",
        " - instances_Train.json -> In proper COCO format\n",
        " - classes.txt          -> A list of classes in alphabetical order"
      ]
    },
    {
      "cell_type": "markdown",
      "metadata": {
        "id": "WABms0oNPQAp",
        "colab_type": "text"
      },
      "source": [
        "## VOC to Monk type"
      ]
    },
    {
      "cell_type": "code",
      "metadata": {
        "id": "bH1_4tHXPbOv",
        "colab_type": "code",
        "outputId": "33c9c6c1-8c68-4bcc-cd5d-beed1c515011",
        "colab": {
          "base_uri": "https://localhost:8080/",
          "height": 34
        }
      },
      "source": [
        "import os\n",
        "import sys\n",
        "import numpy as np\n",
        "import pandas as pd\n",
        "\n",
        "import xmltodict\n",
        "import json\n",
        "\n",
        "from tqdm.notebook import tqdm\n",
        "\n",
        "from pycocotools.coco import COCO"
      ],
      "execution_count": 0,
      "outputs": [
        {
          "output_type": "stream",
          "text": [
            "Requirement already up-to-date: tqdm in /usr/local/lib/python3.6/dist-packages (4.42.0)\n"
          ],
          "name": "stdout"
        }
      ]
    },
    {
      "cell_type": "code",
      "metadata": {
        "id": "wtefWo2eM4kX",
        "colab_type": "code",
        "colab": {}
      },
      "source": [
        "Images_jpg_folder =\"PRImA Layout Analysis Dataset/Images_jpg/\""
      ],
      "execution_count": 0,
      "outputs": []
    },
    {
      "cell_type": "code",
      "metadata": {
        "id": "tn0cIz8nM03Q",
        "colab_type": "code",
        "colab": {}
      },
      "source": [
        "if not os.path.isdir(Images_jpg_folder):\n",
        "    os.mkdir(Images_jpg_folder);"
      ],
      "execution_count": 0,
      "outputs": []
    },
    {
      "cell_type": "code",
      "metadata": {
        "id": "fYVzQz6uLcd6",
        "colab_type": "code",
        "colab": {}
      },
      "source": [
        "from PIL import Image\n",
        "img_folder = \"PRImA Layout Analysis Dataset/Images\"\n",
        "Image_list = os.listdir(img_folder)\n",
        "for name in Image_list:\n",
        "    im = Image.open(img_folder+'/'+name)\n",
        "    name = str(name).rstrip(\".tif\")\n",
        "    im.save(Images_jpg_folder+name + '.jpg', 'JPEG')"
      ],
      "execution_count": 0,
      "outputs": []
    },
    {
      "cell_type": "code",
      "metadata": {
        "id": "qDOngQo1QtTW",
        "colab_type": "code",
        "colab": {}
      },
      "source": [
        "root_dir = \"PRImA Layout Analysis Dataset/\";\n",
        "img_dir = \"Images/\";\n",
        "anno_dir = \"XML/\";\n",
        "anno_folder = \"PRImA Layout Analysis Dataset/XML\"\n",
        "img_folder = \"PRImA Layout Analysis Dataset/Images_jpg\""
      ],
      "execution_count": 0,
      "outputs": []
    },
    {
      "cell_type": "code",
      "metadata": {
        "id": "sCfT2HzgcqjF",
        "colab_type": "code",
        "colab": {}
      },
      "source": [
        "combined = []\n",
        "all_filenames = os.listdir(anno_folder)\n",
        "for filename in all_filenames:\n",
        "    annoFile = \"{}/{}\".format(anno_folder, filename)\n",
        "    f = open(annoFile, 'r')\n",
        "    my_xml = f.read()\n",
        "    if len(filename) == 12:\n",
        "      image_name = filename[0:8]+'.jpg'\n",
        "    if len(filename) == 15:\n",
        "      image_name = filename.split(\"-\")[1]\n",
        "      image_name = image_name[0:8]+'.jpg'\n",
        "    label_str = \"\"\n",
        "    object = ['SeparatorRegion','NoiseRegion','TextRegion','ImageRegion']\n",
        "    for i in object:\n",
        "        try:\n",
        "            image_width= dict(dict(dict(xmltodict.parse(my_xml))['PcGts'])['Page'])['@imageWidth']\n",
        "            image_height = dict(dict(dict(xmltodict.parse(my_xml))['PcGts'])['Page'])['@imageHeight']\n",
        "            p = dict(dict(dict(xmltodict.parse(my_xml))['PcGts'])['Page'])[i]  \n",
        "            try:\n",
        "                a = dict(dict(dict(dict(dict(xmltodict.parse(my_xml))['PcGts'])['Page'])[i])['Coords'])['Point']\n",
        "                x = []\n",
        "                y = []\n",
        "                for j in range(len(a)):\n",
        "                    x.append(int(dict(a[j])['@x']))\n",
        "                    y.append(int(dict(a[j])['@y']))\n",
        "                x1 = str(min(x))\n",
        "                y1 = str(min(y))\n",
        "                x2 = str(max(x))\n",
        "                y2 = str(max(y))\n",
        "                label_str += x1 + \" \" + y1 + \" \" + x2 + \" \" + y2 + \" \" + i + \" \"\n",
        "\n",
        "            except:\n",
        "\n",
        "                b = dict(dict(dict(xmltodict.parse(my_xml))['PcGts'])['Page'])[i]\n",
        "                for k in range(len(b)):\n",
        "                    c = b[k]\n",
        "                    d = dict(dict(c)['Coords'])['Point']\n",
        "                    x = []\n",
        "                    y = []\n",
        "                    for l in range(len(a)):\n",
        "                        x.append(int(dict(a[l])['@x']))\n",
        "                        y.append(int(dict(a[l])['@y']))\n",
        "                    x1 = str(min(x))\n",
        "                    y1 = str(min(y))\n",
        "                    x2 = str(max(x))\n",
        "                    y2 = str(max(y))\n",
        "                    label_str += x1 + \" \" + y1 + \" \" + x2 + \" \" + y2 + \" \" + i + \" \"\n",
        "        except:\n",
        "            continue\n",
        "    label_str = label_str.strip()\n",
        "    combined.append([image_name, label_str,image_width,image_height]) "
      ],
      "execution_count": 0,
      "outputs": []
    },
    {
      "cell_type": "code",
      "metadata": {
        "id": "MkSuhmIRNIA8",
        "colab_type": "code",
        "colab": {}
      },
      "source": [
        "df = pd.DataFrame(combined, columns = ['ID', 'Label','image_width','image_height'])\n",
        "df['Label'] = df['Label'].replace('',np.NaN)\n",
        "df = df[pd.notnull(df['Label'])]\n",
        "df = df.reset_index(drop=True)\n",
        "df.to_csv(root_dir+\"/train_labels.csv\", index=False)"
      ],
      "execution_count": 0,
      "outputs": []
    },
    {
      "cell_type": "code",
      "metadata": {
        "id": "E-iECKxLrsOp",
        "colab_type": "code",
        "colab": {}
      },
      "source": [
        "columns = df.columns"
      ],
      "execution_count": 0,
      "outputs": []
    },
    {
      "cell_type": "code",
      "metadata": {
        "id": "yETzJfCpqwYl",
        "colab_type": "code",
        "colab": {}
      },
      "source": [
        "import os\n",
        "Image_list = os.listdir(img_folder)\n",
        "a = df[columns[0]].tolist()\n",
        "b = [x for x in Image_list if x not in a]\n",
        "for file in b:\n",
        "  os.remove(img_folder + '/' + file) "
      ],
      "execution_count": 0,
      "outputs": []
    },
    {
      "cell_type": "markdown",
      "metadata": {
        "id": "2Mz65kDyTaxk",
        "colab_type": "text"
      },
      "source": [
        "## Monk Type to COCO\n",
        "\n",
        "\n"
      ]
    },
    {
      "cell_type": "code",
      "metadata": {
        "id": "SoW8vgYzNIEH",
        "colab_type": "code",
        "colab": {}
      },
      "source": [
        "import os\n",
        "import numpy as np \n",
        "import cv2\n",
        "import dicttoxml\n",
        "import xml.etree.ElementTree as ET\n",
        "from xml.dom.minidom import parseString\n",
        "from tqdm import tqdm\n",
        "import shutil\n",
        "import json\n",
        "import pandas as pd"
      ],
      "execution_count": 0,
      "outputs": []
    },
    {
      "cell_type": "code",
      "metadata": {
        "id": "Rj3jAQ7EThV6",
        "colab_type": "code",
        "colab": {}
      },
      "source": [
        "root = \"PRImA Layout Analysis Dataset/\";\n",
        "img_dir = \"Images_jpg/\";\n",
        "anno_file = \"train_labels.csv\";"
      ],
      "execution_count": 0,
      "outputs": []
    },
    {
      "cell_type": "code",
      "metadata": {
        "id": "sAaYJSYEThgI",
        "colab_type": "code",
        "colab": {}
      },
      "source": [
        "dataset_path = root;\n",
        "images_folder = root + img_dir;\n",
        "annotations_path = root + \"annotations/\";"
      ],
      "execution_count": 0,
      "outputs": []
    },
    {
      "cell_type": "code",
      "metadata": {
        "id": "taWw72WXUKuL",
        "colab_type": "code",
        "colab": {}
      },
      "source": [
        "if not os.path.isdir(annotations_path):\n",
        "    os.mkdir(annotations_path)\n",
        "    \n",
        "input_images_folder = images_folder;\n",
        "input_annotations_path = root + anno_file;"
      ],
      "execution_count": 0,
      "outputs": []
    },
    {
      "cell_type": "code",
      "metadata": {
        "id": "1yak-HdvUK0P",
        "colab_type": "code",
        "colab": {}
      },
      "source": [
        "output_dataset_path = root;\n",
        "output_image_folder = input_images_folder;\n",
        "output_annotation_folder = annotations_path;\n",
        "\n",
        "tmp = img_dir.replace(\"/\", \"\");\n",
        "output_annotation_file = output_annotation_folder + \"/instances_\" + tmp + \".json\";\n",
        "output_classes_file = output_annotation_folder + \"/classes.txt\";"
      ],
      "execution_count": 0,
      "outputs": []
    },
    {
      "cell_type": "code",
      "metadata": {
        "id": "nUTItrJUVh4W",
        "colab_type": "code",
        "colab": {}
      },
      "source": [
        "if not os.path.isdir(output_annotation_folder):\n",
        "    os.mkdir(output_annotation_folder);"
      ],
      "execution_count": 0,
      "outputs": []
    },
    {
      "cell_type": "code",
      "metadata": {
        "id": "8CAwl7D_VqR0",
        "colab_type": "code",
        "colab": {}
      },
      "source": [
        "df = pd.read_csv(input_annotations_path);\n",
        "columns = df.columns"
      ],
      "execution_count": 0,
      "outputs": []
    },
    {
      "cell_type": "code",
      "metadata": {
        "id": "3Pcrzk_GV5HO",
        "colab_type": "code",
        "colab": {}
      },
      "source": [
        "list_dict = [];\n",
        "anno = [];\n",
        "for i in range(len(df)):\n",
        "    img_name = df[columns[0]][i];\n",
        "    labels = df[columns[1]][i];\n",
        "    tmp = labels.split(\" \");\n",
        "    for j in range(len(tmp)//5):\n",
        "        label = tmp[j*5+4];\n",
        "        if(label not in anno):\n",
        "            anno.append(label);\n",
        "    anno = sorted(anno)\n",
        "    \n",
        "for i in tqdm(range(len(anno))):\n",
        "    tmp = {};\n",
        "    tmp[\"supercategory\"] = \"master\";\n",
        "    tmp[\"id\"] = i;\n",
        "    tmp[\"name\"] = anno[i];\n",
        "    list_dict.append(tmp);\n",
        "\n",
        "anno_f = open(output_classes_file, 'w');\n",
        "for i in range(len(anno)):\n",
        "    anno_f.write(anno[i] + \"\\n\");\n",
        "anno_f.close();"
      ],
      "execution_count": 0,
      "outputs": []
    },
    {
      "cell_type": "code",
      "metadata": {
        "id": "k4_kmVvZV5K5",
        "colab_type": "code",
        "colab": {}
      },
      "source": [
        "coco_data = {};\n",
        "coco_data[\"type\"] = \"instances\";\n",
        "coco_data[\"images\"] = [];\n",
        "coco_data[\"annotations\"] = [];\n",
        "coco_data[\"categories\"] = list_dict;\n",
        "image_id = 0;\n",
        "annotation_id = 0;\n",
        "\n",
        "\n",
        "for i in tqdm(range(len(df))):\n",
        "    img_name = df[columns[0]][i];\n",
        "    labels = df[columns[1]][i];\n",
        "    tmp = labels.split(\" \");\n",
        "    image_in_path = input_images_folder  + img_name;\n",
        "    #print(image_in_path)\n",
        "\n",
        "\n",
        "    images_tmp = {};\n",
        "    images_tmp[\"file_name\"] = img_name;\n",
        "    images_tmp[\"height\"] = int(df[columns[3]][i]);\n",
        "    images_tmp[\"width\"] = int(df[columns[2]][i]);\n",
        "    images_tmp[\"id\"] = image_id;\n",
        "    coco_data[\"images\"].append(images_tmp);\n",
        "    \n",
        "\n",
        "    for j in range(len(tmp)//5):\n",
        "        x1 = int(tmp[j*5+0]);\n",
        "        y1 = int(tmp[j*5+1]);\n",
        "        x2 = int(tmp[j*5+2]);\n",
        "        y2 = int(tmp[j*5+3]);\n",
        "        label = tmp[j*5+4];\n",
        "        print(x1,y1,x2,y2)\n",
        "        annotations_tmp = {};\n",
        "        annotations_tmp[\"id\"] = annotation_id;\n",
        "        annotation_id += 1;\n",
        "        annotations_tmp[\"image_id\"] = image_id;\n",
        "        annotations_tmp[\"segmentation\"] = [];\n",
        "        annotations_tmp[\"ignore\"] = 0;\n",
        "        annotations_tmp[\"area\"] = (x2-x1)*(y2-y1);\n",
        "\n",
        "        annotations_tmp[\"iscrowd\"] = 0;\n",
        "        annotations_tmp[\"bbox\"] = [x1, y1, x2-x1, y2-y1];\n",
        "        annotations_tmp[\"category_id\"] = anno.index(label);\n",
        "        print( annotations_tmp[\"area\"],annotations_tmp[\"bbox\"])\n",
        "\n",
        "        coco_data[\"annotations\"].append(annotations_tmp)\n",
        "    image_id += 1;\n",
        "\n",
        "outfile =  open(output_annotation_file, 'w');\n",
        "json_str = json.dumps(coco_data, indent=4);\n",
        "outfile.write(json_str);\n",
        "outfile.close();"
      ],
      "execution_count": 0,
      "outputs": []
    },
    {
      "cell_type": "markdown",
      "metadata": {
        "id": "UE4YUp_oF_R6",
        "colab_type": "text"
      },
      "source": [
        "# Training"
      ]
    },
    {
      "cell_type": "code",
      "metadata": {
        "id": "U6MGYVE4ZjVf",
        "colab_type": "code",
        "colab": {}
      },
      "source": [
        "import os\n",
        "import sys\n",
        "sys.path.append(\"../../5_pytorch_retinanet/lib/\");"
      ],
      "execution_count": 0,
      "outputs": []
    },
    {
      "cell_type": "code",
      "metadata": {
        "id": "ESfxJloOZ5Xs",
        "colab_type": "code",
        "colab": {}
      },
      "source": [
        "from train_detector import Detector"
      ],
      "execution_count": 0,
      "outputs": []
    },
    {
      "cell_type": "code",
      "metadata": {
        "id": "ai8rhnoZaCSw",
        "colab_type": "code",
        "colab": {}
      },
      "source": [
        "gtf = Detector();"
      ],
      "execution_count": 0,
      "outputs": []
    },
    {
      "cell_type": "code",
      "metadata": {
        "id": "Gj0oI_3maCc_",
        "colab_type": "code",
        "colab": {}
      },
      "source": [
        "root_dir = \"./\";\n",
        "coco_dir = \"PRImA Layout Analysis Dataset\";\n",
        "img_dir = \"./\";\n",
        "set_dir = \"Images_jpg\";"
      ],
      "execution_count": 0,
      "outputs": []
    },
    {
      "cell_type": "code",
      "metadata": {
        "id": "VSDKp0moaemy",
        "colab_type": "code",
        "colab": {}
      },
      "source": [
        "gtf.Train_Dataset(root_dir, coco_dir, img_dir, set_dir, batch_size=2, use_gpu=True)"
      ],
      "execution_count": 0,
      "outputs": []
    },
    {
      "cell_type": "code",
      "metadata": {
        "id": "FCSy-Wy9aeqC",
        "colab_type": "code",
        "colab": {}
      },
      "source": [
        "gtf.Model(model_name=\"resnet50\");"
      ],
      "execution_count": 0,
      "outputs": []
    },
    {
      "cell_type": "code",
      "metadata": {
        "id": "1BR-Ny6ka4UL",
        "colab_type": "code",
        "colab": {}
      },
      "source": [
        "gtf.Set_Hyperparams(lr=0.0001, val_interval=1, print_interval=20)"
      ],
      "execution_count": 0,
      "outputs": []
    },
    {
      "cell_type": "code",
      "metadata": {
        "id": "6z9DKFoEph5u",
        "colab_type": "code",
        "colab": {}
      },
      "source": [
        "gtf.Train(num_epochs=1, output_model_name=\"final_model.pt\");"
      ],
      "execution_count": 0,
      "outputs": []
    },
    {
      "cell_type": "markdown",
      "metadata": {
        "id": "j_31JesyNO2V",
        "colab_type": "text"
      },
      "source": [
        "# Inference"
      ]
    },
    {
      "cell_type": "code",
      "metadata": {
        "id": "i7pq9I2Yk0qu",
        "colab_type": "code",
        "colab": {}
      },
      "source": [
        "import os\n",
        "import sys\n",
        "sys.path.append(\"../../5_pytorch_retinanet/lib/\");"
      ],
      "execution_count": 0,
      "outputs": []
    },
    {
      "cell_type": "code",
      "metadata": {
        "id": "1BD5y6HRk0m-",
        "colab_type": "code",
        "colab": {}
      },
      "source": [
        "from infer_detector import Infer"
      ],
      "execution_count": 0,
      "outputs": []
    },
    {
      "cell_type": "code",
      "metadata": {
        "id": "4Szc0sGylA1b",
        "colab_type": "code",
        "colab": {}
      },
      "source": [
        "gtf = Infer();"
      ],
      "execution_count": 0,
      "outputs": []
    },
    {
      "cell_type": "code",
      "metadata": {
        "id": "JlGvz2TglENd",
        "colab_type": "code",
        "colab": {}
      },
      "source": [
        "gtf.Model(model_path=\"final_model.pt\");"
      ],
      "execution_count": 0,
      "outputs": []
    },
    {
      "cell_type": "code",
      "metadata": {
        "id": "P18E90kclERP",
        "colab_type": "code",
        "colab": {}
      },
      "source": [
        "class_list = ['ImageRegion','NoiseRegion','TextRegion','SeparatorRegion']"
      ],
      "execution_count": 0,
      "outputs": []
    },
    {
      "cell_type": "code",
      "metadata": {
        "id": "pZJTPtHb5BW7",
        "colab_type": "code",
        "colab": {}
      },
      "source": [
        "img_folder = \"sample_test\";\n",
        "gtf.predict_batch_of_images(img_folder, class_list, vis_threshold=0.001);\n",
        "from IPython.display import Image\n",
        "Image(filename='Inference/00000085.jpg')"
      ],
      "execution_count": 0,
      "outputs": []
    }
  ]
}